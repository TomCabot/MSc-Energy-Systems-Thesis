{
 "cells": [
  {
   "cell_type": "code",
   "execution_count": 27,
   "id": "42b42ba0-858e-416f-a684-9357bcf78a4b",
   "metadata": {},
   "outputs": [],
   "source": [
    "import pandas as pd\n",
    "from scipy.stats import pearsonr\n",
    "import numpy as np\n",
    "import warnings\n",
    "warnings.filterwarnings(\"ignore\")\n",
    "import math"
   ]
  },
  {
   "cell_type": "code",
   "execution_count": 28,
   "id": "8cd3f6f9-bbb8-4019-9fa4-d9029b4ddb31",
   "metadata": {},
   "outputs": [],
   "source": [
    "meaning = pd.read_csv('meaning.csv')\n",
    "q = dict(zip(meaning.key,meaning.question))\n",
    "\n",
    "survey = pd.read_csv('survey.csv') \n",
    "df = survey\n"
   ]
  },
  {
   "cell_type": "markdown",
   "id": "c55abea7-b9f5-4acf-9ef0-10ce1149415d",
   "metadata": {},
   "source": [
    "###### 1. GENDER DATAFRAME ######"
   ]
  },
  {
   "cell_type": "code",
   "execution_count": 29,
   "id": "10a1f3f1-8681-488e-96ed-f3144bf36e25",
   "metadata": {
    "tags": []
   },
   "outputs": [],
   "source": [
    "GENDER_df = survey.groupby('id', as_index=False)['gender'].mean() \n",
    "#print(GENDER_df)\n",
    "\n",
    "# 'gender' cannot be renamed as it is the title of the column in survey.csv"
   ]
  },
  {
   "cell_type": "code",
   "execution_count": 30,
   "id": "ed6772c1-9ba3-4b0a-9bb8-4ee81c57eeff",
   "metadata": {
    "tags": []
   },
   "outputs": [],
   "source": [
    "M_F = []\n",
    "for row in GENDER_df['gender']:\n",
    "    if row < 2 : M_F.append('Male')\n",
    "    elif row < 96 : M_F.append('Female')\n",
    "    elif row < 97 : M_F.append('Prefer not to answer')\n",
    "    elif row < 98 : M_F.append('In another way')\n",
    "    \n",
    "    else: M_F.append('Not_Rated')"
   ]
  },
  {
   "cell_type": "code",
   "execution_count": 31,
   "id": "345bb47c-ac49-4196-bbb7-08e9feaead29",
   "metadata": {
    "tags": []
   },
   "outputs": [],
   "source": [
    "GENDER_df['M_F']= M_F \n",
    "#print(GENDER_df)"
   ]
  },
  {
   "cell_type": "code",
   "execution_count": 32,
   "id": "1c6ec46e-2a44-4746-8e86-51af6fcff4da",
   "metadata": {
    "tags": []
   },
   "outputs": [],
   "source": [
    "#GENDER_df['M_F'].value_counts()"
   ]
  },
  {
   "cell_type": "markdown",
   "id": "80949c31-a927-4e76-a2ac-9bfe4ad77359",
   "metadata": {},
   "source": [
    "###### 2.1 AGE RANGE #######"
   ]
  },
  {
   "cell_type": "code",
   "execution_count": 33,
   "id": "2efcc5a6-2e32-4ef8-bfc4-b2499f476ad1",
   "metadata": {
    "tags": []
   },
   "outputs": [],
   "source": [
    "survey = survey[survey.age > 0]"
   ]
  },
  {
   "cell_type": "code",
   "execution_count": 34,
   "id": "f9ad4bcf-a6fb-4686-9515-15265e7a1ea2",
   "metadata": {
    "tags": []
   },
   "outputs": [],
   "source": [
    "AGE_df = survey.groupby('id', as_index=False)['age'].mean() \n",
    "#print(AGE_df)"
   ]
  },
  {
   "cell_type": "code",
   "execution_count": 35,
   "id": "39c46759-3db4-45a1-931b-578959b3a44f",
   "metadata": {
    "tags": []
   },
   "outputs": [],
   "source": [
    "# Custom Binning data https://datagy.io/pandas-cut-qcut/\n",
    "# ( = dont include    [  = include in range\n",
    "\n",
    "AGE_df['Age Group'] = pd.cut(\n",
    "   AGE_df['age'], \n",
    "   [0, 18, 25, 45, 65, 75, 85, 120],\n",
    "    labels=['under 18', '18-24 yrs', '25-44 yrs', '45-64 yrs', '65-74 yrs', '75-84', '85+'], \n",
    "    right= False,\n",
    ")\n",
    "#print(AGE_df.head())"
   ]
  },
  {
   "cell_type": "code",
   "execution_count": 36,
   "id": "602f7f76-f640-454b-976e-d0a25932c984",
   "metadata": {
    "tags": []
   },
   "outputs": [],
   "source": [
    "#AGE_df['Age Group'].value_counts().rename_axis('Age Group').reset_index(name='counts')"
   ]
  },
  {
   "cell_type": "markdown",
   "id": "a3d4db99-f257-408b-8578-4bc327c1f7b8",
   "metadata": {
    "tags": []
   },
   "source": [
    "###### 2.2 NUMBER OF ADULTS AND CHILDREN IN HOUSEHOLD #######"
   ]
  },
  {
   "cell_type": "code",
   "execution_count": 37,
   "id": "9864cb90-13b6-439d-85ba-2901a8f0ad6d",
   "metadata": {
    "tags": []
   },
   "outputs": [],
   "source": [
    "# ADULTS (18 yrs+)\n",
    "# d7 = How many adults (aged 18+) live in your household (From meaning.csv)\n",
    "\n",
    "ADULTS_df = pd.DataFrame()\n",
    "ADULTS_df['cnt'] = df['d7'].value_counts(dropna=False)\n",
    "ADULTS_df['share'] = df['d7'].value_counts(dropna=False, normalize=True).mul(100).round(1).astype(str) + '%'\n",
    "ADULTS_df['adults'] = ADULTS_df.index\n",
    "ADULTS_df = ADULTS_df.reset_index()\n",
    "ADULTS_df = ADULTS_df.drop('index', axis=1)\n",
    "\n",
    "#ADULTS_df"
   ]
  },
  {
   "cell_type": "code",
   "execution_count": 38,
   "id": "5f460e02-003d-4662-a826-2a37d401001c",
   "metadata": {
    "tags": []
   },
   "outputs": [],
   "source": [
    "# CHILDREN (under 18 yrs)\n",
    "# d8 = How many children aged under 18 live in your household? (From meaning.csv)\n",
    "\n",
    "CHILD_df = pd.DataFrame()\n",
    "CHILD_df['cnt'] = df['d8'].value_counts(dropna=False)\n",
    "CHILD_df['% share'] = df['d8'].value_counts(dropna=False, normalize=True).mul(100).round(1).astype(str) + '%'\n",
    "CHILD_df['Children (<18yrs)'] = CHILD_df.index\n",
    "CHILD_df = CHILD_df.reset_index()\n",
    "CHILD_df = CHILD_df.drop('index', axis=1)\n",
    "#CHILD_df"
   ]
  },
  {
   "cell_type": "code",
   "execution_count": 39,
   "id": "baa9f7ef-db9e-429a-b483-a722176275aa",
   "metadata": {
    "tags": []
   },
   "outputs": [],
   "source": [
    "# CHILDREN (under 18 yrs)\n",
    "# d8 = How many children aged under 18 live in your household? (From meaning.csv)\n",
    "\n",
    "c = df['d8'].value_counts(dropna=False)\n",
    "p = df['d8'].value_counts(dropna=False, normalize=True).mul(100).round(1).astype(str) + '%'\n",
    "#pd.concat([c,p], axis=1, keys=['counts', '%'])\n"
   ]
  },
  {
   "cell_type": "markdown",
   "id": "b39a37f4-683e-49b2-8662-7ff53291711a",
   "metadata": {},
   "source": [
    "##### 3. EDUCATION LEVEL ######"
   ]
  },
  {
   "cell_type": "code",
   "execution_count": 40,
   "id": "84461e52-15bc-45c6-8bbb-5ca878ef99fa",
   "metadata": {
    "tags": []
   },
   "outputs": [],
   "source": [
    "# d9 What is the highest educational level that you have achieved to date?\n",
    "# EDU_df = Education level df\n",
    "\n",
    "d9_meaning = meaning[meaning.key == 'd9']\n",
    "d9_meaning['response'] = d9_meaning.response.astype('int')\n",
    "\n",
    "EDU_df = survey.groupby('d9',as_index=True)['d9'].count()\n",
    "\n",
    "EDU_df = survey.groupby('d9').count().reset_index()[['d9','id']]\n",
    "EDU_df = EDU_df.rename(columns={'id':'cnt','d9':'response'})\n",
    "EDU_df['% share'] = EDU_df.cnt / EDU_df.cnt.sum() *100\n",
    "\n",
    "EDU_df = pd.merge(EDU_df, d9_meaning, on='response')\n",
    "EDU_df = EDU_df[['response','cnt','meaning','% share']]    ##### This displays only these columns \n",
    "#EDU_df.round(1)"
   ]
  },
  {
   "cell_type": "markdown",
   "id": "c4b4d9fa-3c20-42c6-9564-1b2d29fede87",
   "metadata": {},
   "source": [
    "##### 4. HOUSE OWNERSHIP #####"
   ]
  },
  {
   "cell_type": "code",
   "execution_count": 41,
   "id": "e6685905-6364-4b2a-8a86-6015163b4c1a",
   "metadata": {
    "tags": []
   },
   "outputs": [],
   "source": [
    "# q7 Which of the following best describes your main home? i.e owned or rented\n",
    "# HO_df = House Ownership df\n",
    "\n",
    "q7_meaning = meaning[meaning.key == 'q7']\n",
    "q7_meaning['response'] = q7_meaning.response.astype('int')\n",
    "\n",
    "HO_df = survey.groupby('q7',as_index=True)['q7'].count()\n",
    "\n",
    "HO_df = survey.groupby('q7').count().reset_index()[['q7','id']]\n",
    "HO_df = HO_df.rename(columns={'id':'cnt','q7':'response'})\n",
    "HO_df['% share'] = HO_df.cnt / HO_df.cnt.sum() *100\n",
    "\n",
    "HO_df = pd.merge(HO_df, q7_meaning, on='response')\n",
    "HO_df = HO_df[['response','cnt','meaning','% share']]    \n",
    "#HO_df.round(1)\n"
   ]
  },
  {
   "cell_type": "markdown",
   "id": "c79aa35c-2c70-480e-b832-f3482e20f9a0",
   "metadata": {},
   "source": [
    "##### 5. PROPERTY TYPE #####"
   ]
  },
  {
   "cell_type": "code",
   "execution_count": 42,
   "id": "d82cb8f1-b9dd-4f81-a92b-87f060405224",
   "metadata": {
    "tags": []
   },
   "outputs": [],
   "source": [
    "# q8 What type of property do you live in?\n",
    "# PT_df = Property type df"
   ]
  },
  {
   "cell_type": "code",
   "execution_count": 43,
   "id": "e4f989be-24ee-43b5-a6d7-18abb8310c14",
   "metadata": {
    "tags": []
   },
   "outputs": [],
   "source": [
    "q8_meaning = meaning[meaning.key == 'q8']\n",
    "q8_meaning['response'] = q8_meaning.response.astype('int')\n",
    "\n",
    "PT_df = survey.groupby('q8',as_index=True)['q8'].count()\n",
    "\n",
    "PT_df = survey.groupby('q8').count().reset_index()[['q8','id']]\n",
    "PT_df = PT_df.rename(columns={'id':'cnt','q8':'response'})\n",
    "PT_df['% share'] = PT_df.cnt / PT_df.cnt.sum() *100\n",
    "\n",
    "PT_df = pd.merge(PT_df, q8_meaning, on='response')\n",
    "PT_df = PT_df[['response','cnt','meaning','% share']]    \n",
    "#PT_df.round(1)"
   ]
  },
  {
   "cell_type": "markdown",
   "id": "9aeb11c5-3c20-4d8c-9d51-31335d7e5051",
   "metadata": {
    "tags": []
   },
   "source": [
    "###### 6.EMPLOYMENT STATUS ######"
   ]
  },
  {
   "cell_type": "code",
   "execution_count": 44,
   "id": "3c1c5ea3-fe5b-4101-98bf-2a6b62f10f6c",
   "metadata": {
    "tags": []
   },
   "outputs": [],
   "source": [
    "# segworkingstatus What is the employment status of the Chief Income Earner in your household?The Chief Income Earner is the person with the highest income in the household. If incomes are equal\n",
    "# EMP_df = Employment df"
   ]
  },
  {
   "cell_type": "code",
   "execution_count": 45,
   "id": "e3f51a73-0be8-4af0-aec4-66ea3a6b78ba",
   "metadata": {
    "tags": []
   },
   "outputs": [],
   "source": [
    "segworkingstatus_meaning = meaning[meaning.key == 'segworkingstatus']\n",
    "segworkingstatus_meaning['response'] = segworkingstatus_meaning.response.astype('int')\n",
    "\n",
    "EMP_df = survey.groupby('segworkingstatus',as_index=True)['segworkingstatus'].count()\n",
    "\n",
    "EMP_df = survey.groupby('segworkingstatus').count().reset_index()[['segworkingstatus','id']]\n",
    "EMP_df = EMP_df.rename(columns={'id':'cnt','segworkingstatus':'response'})\n",
    "EMP_df['% share'] = EMP_df.cnt / EMP_df.cnt.sum() *100\n",
    "\n",
    "EMP_df = pd.merge(EMP_df, segworkingstatus_meaning, on='response')\n",
    "EMP_df = EMP_df[['response','cnt','meaning','% share']]    \n",
    "#EMP_df.round(1)"
   ]
  },
  {
   "cell_type": "markdown",
   "id": "00f6fd55-7cd3-486a-9403-639b00ca43ed",
   "metadata": {
    "tags": []
   },
   "source": [
    "###### 7. COMBINED ANNUAL INCOME  ######"
   ]
  },
  {
   "cell_type": "code",
   "execution_count": 46,
   "id": "6bc5aec5-84f0-4133-8f8f-0597a9048128",
   "metadata": {
    "tags": []
   },
   "outputs": [],
   "source": [
    "# d13 What is the combined annual income of your household\n",
    "# INCOME_df = income df"
   ]
  },
  {
   "cell_type": "code",
   "execution_count": 47,
   "id": "d848ce1d-0486-4769-939a-2fbdf202fa77",
   "metadata": {
    "tags": []
   },
   "outputs": [],
   "source": [
    "d13_meaning = meaning[meaning.key == 'd13']\n",
    "d13_meaning['response'] = d13_meaning.response.astype('int')\n",
    "\n",
    "INCOME_df = survey.groupby('d13',as_index=True)['d13'].count()\n",
    "\n",
    "INCOME_df = survey.groupby('d13').count().reset_index()[['d13','id']]\n",
    "INCOME_df = INCOME_df.rename(columns={'id':'cnt','d13':'response'})\n",
    "INCOME_df['% share'] = INCOME_df.cnt / INCOME_df.cnt.sum() *100\n",
    "\n",
    "INCOME_df = pd.merge(INCOME_df, d13_meaning, on='response')\n",
    "INCOME_df = INCOME_df[['response','cnt','meaning','% share']]    \n",
    "#INCOME_df.round(1)"
   ]
  },
  {
   "cell_type": "markdown",
   "id": "4217928c-530a-4d5d-9801-698e1aa78119",
   "metadata": {
    "tags": []
   },
   "source": [
    "###### 8. ELECTRIC CAR OWNERSHIP ######"
   ]
  },
  {
   "cell_type": "code",
   "execution_count": 48,
   "id": "a62d6907-01a3-4657-8824-d11278c3f146",
   "metadata": {
    "tags": []
   },
   "outputs": [],
   "source": [
    "EV_df = pd.DataFrame()\n",
    "EV_df['cnt'] = df['q14_2'].value_counts(dropna=False)\n",
    "EV_df['share'] = df['q14_2'].value_counts(dropna=False, normalize=True).mul(100).round(1).astype(str) + '%'\n",
    "EV_df['No of EV'] = EV_df.index\n",
    "EV_df = EV_df.reset_index()\n",
    "EV_df = EV_df.drop('index', axis=1)\n",
    "\n",
    "#EV_df"
   ]
  },
  {
   "cell_type": "markdown",
   "id": "7cbfff9f-e2b7-4bf5-a0ad-89bb084377db",
   "metadata": {
    "tags": []
   },
   "source": [
    "###### 9. HAVE ELECTRIC HEAT PUMP OVER GAS BOILER  ######"
   ]
  },
  {
   "cell_type": "code",
   "execution_count": 49,
   "id": "dba5b14a-3aab-45b8-94ba-547bab463e0d",
   "metadata": {
    "tags": []
   },
   "outputs": [],
   "source": [
    "HP_df = pd.DataFrame()\n",
    "HP_df['cnt'] = df['q14_3'].value_counts(dropna=False)\n",
    "HP_df['share'] = df['q14_3'].value_counts(dropna=False, normalize=True).mul(100).round(1).astype(str) + '%'\n",
    "HP_df['HP over Gas'] = HP_df.index\n",
    "HP_df = HP_df.reset_index()\n",
    "HP_df = HP_df.drop('index', axis=1)\n",
    "\n",
    "#HP_df"
   ]
  },
  {
   "cell_type": "markdown",
   "id": "c6d6a034-f70a-4ef1-b3fb-dedb437f5d77",
   "metadata": {},
   "source": [
    "###### 10. USE SOLAR POWERED DEVEICES ######"
   ]
  },
  {
   "cell_type": "code",
   "execution_count": 50,
   "id": "59211a21-ba36-40db-bc2a-dbf5d4d1b1d2",
   "metadata": {
    "tags": []
   },
   "outputs": [],
   "source": [
    "SOLAR_df = pd.DataFrame()\n",
    "SOLAR_df['cnt'] = df['q14_13'].value_counts(dropna=False)\n",
    "SOLAR_df['share'] = df['q14_13'].value_counts(dropna=False, normalize=True).mul(100).round(1).astype(str) + '%'\n",
    "SOLAR_df['Use Solar'] = SOLAR_df.index\n",
    "SOLAR_df = SOLAR_df.reset_index()\n",
    "SOLAR_df = SOLAR_df.drop('index', axis=1)\n",
    "\n",
    "#SOLAR_df"
   ]
  },
  {
   "cell_type": "markdown",
   "id": "c959e918-28a0-477f-8da0-d7260958b7c1",
   "metadata": {
    "tags": []
   },
   "source": [
    "###### 11. £ SPENT ON ENERGY (ELEC/GAS) PER YEAR "
   ]
  },
  {
   "cell_type": "code",
   "execution_count": 51,
   "id": "66486128-b8a2-4439-a073-1be29db923f1",
   "metadata": {
    "tags": []
   },
   "outputs": [],
   "source": [
    "# q12 How much do you spend on energy per year? By that we mean electricity and/or gas.If you are not sure\n",
    "# ES_df = Energy Spend dataframe\n",
    "\n",
    "q12_meaning = meaning[meaning.key == 'q12']\n",
    "q12_meaning['response'] = q12_meaning.response.astype('int')\n",
    "\n",
    "ES_df = survey.groupby('q12',as_index=True)['q12'].count()\n",
    "\n",
    "ES_df = survey.groupby('q12').count().reset_index()[['q12','id']]\n",
    "ES_df = ES_df.rename(columns={'id':'cnt','q12':'response'})\n",
    "ES_df['% share'] = ES_df.cnt / ES_df.cnt.sum() *100\n",
    "\n",
    "ES_df = pd.merge(ES_df, q12_meaning, on='response')\n",
    "ES_df = ES_df[['response','cnt','meaning','% share']]    ##### This displays only these columns \n",
    "#ES_df.round(1)\n",
    "\n"
   ]
  },
  {
   "cell_type": "markdown",
   "id": "94f99a0d-584e-4c28-aba3-43c92eddefea",
   "metadata": {},
   "source": [
    "#### ETHNICITY ####"
   ]
  },
  {
   "cell_type": "code",
   "execution_count": 52,
   "id": "a56e0bf0-5e4d-410e-9b4b-e16e0aef9a48",
   "metadata": {},
   "outputs": [],
   "source": [
    "d5_meaning = meaning[meaning.key == 'd5']\n",
    "d5_meaning['response'] = d5_meaning.response.astype('int')\n",
    "\n",
    "\n",
    "ES_df = survey.groupby('d5',as_index=True)['d5'].count()\n",
    "ES_df = survey.groupby('d5').count().reset_index()[['d5','id']]\n",
    "ES_df = ES_df.rename(columns={'id':'cnt','d5':'response'})\n",
    "ES_df['% share'] = ES_df.cnt / ES_df.cnt.sum() *100\n",
    "\n",
    "ES_df = pd.merge(ES_df, d5_meaning, on='response')\n",
    "ES_df = ES_df[['response','cnt','meaning','% share']]    ##### This displays only these columns \n",
    "#ES_df.round(1)\n"
   ]
  },
  {
   "cell_type": "code",
   "execution_count": null,
   "id": "bcc48094-0bdf-4874-9192-6a7307e1a5ab",
   "metadata": {},
   "outputs": [],
   "source": []
  },
  {
   "cell_type": "code",
   "execution_count": null,
   "id": "9bfa1373-7dbe-4911-9ae9-825c3bbf13fb",
   "metadata": {},
   "outputs": [],
   "source": []
  },
  {
   "cell_type": "code",
   "execution_count": null,
   "id": "23f14b1b-4683-45de-8b14-5052af034238",
   "metadata": {},
   "outputs": [],
   "source": []
  },
  {
   "cell_type": "code",
   "execution_count": null,
   "id": "5e97a3c8-ed72-49ef-9d47-e5780dbffa71",
   "metadata": {},
   "outputs": [],
   "source": []
  },
  {
   "cell_type": "code",
   "execution_count": null,
   "id": "d312bee6-35c1-4dea-a73d-0c68835cfa42",
   "metadata": {},
   "outputs": [],
   "source": []
  },
  {
   "cell_type": "code",
   "execution_count": null,
   "id": "c4aa3f7a-9989-4527-b5e0-fcb32736cc04",
   "metadata": {},
   "outputs": [],
   "source": []
  }
 ],
 "metadata": {
  "kernelspec": {
   "display_name": "Python 3",
   "language": "python",
   "name": "python3"
  },
  "language_info": {
   "codemirror_mode": {
    "name": "ipython",
    "version": 3
   },
   "file_extension": ".py",
   "mimetype": "text/x-python",
   "name": "python",
   "nbconvert_exporter": "python",
   "pygments_lexer": "ipython3",
   "version": "3.8.8"
  }
 },
 "nbformat": 4,
 "nbformat_minor": 5
}
